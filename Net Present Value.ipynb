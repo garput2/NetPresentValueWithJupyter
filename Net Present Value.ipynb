{
 "cells": [
  {
   "cell_type": "markdown",
   "metadata": {},
   "source": [
    "# Net Present Value"
   ]
  },
  {
   "cell_type": "code",
   "execution_count": 22,
   "metadata": {},
   "outputs": [],
   "source": [
    "#initial cost\n",
    "#in dollars\n",
    "a = 1750000000"
   ]
  },
  {
   "cell_type": "code",
   "execution_count": 12,
   "metadata": {},
   "outputs": [],
   "source": [
    "#interest rate\n",
    "#in percentage\n",
    "interest = 5"
   ]
  },
  {
   "cell_type": "markdown",
   "metadata": {},
   "source": [
    "## Static Cashflow or Dynamic Cashflow?\n",
    "\n",
    "Static Cashflow = the total annual cashflow stays the same for every year.\n",
    "\n",
    "Dynamic Cashflow = the total annual cashflow changes for every year\n",
    "\n",
    "Cashflow = Income - Expenditure"
   ]
  },
  {
   "cell_type": "code",
   "execution_count": 25,
   "metadata": {},
   "outputs": [],
   "source": [
    "#if static income\n",
    "#in dollars\n",
    "stat = 200000000\n",
    "\n",
    "#for how long should we calculate?\n",
    "#in years\n",
    "\n",
    "year = 20"
   ]
  },
  {
   "cell_type": "code",
   "execution_count": 27,
   "metadata": {},
   "outputs": [],
   "source": [
    "#if dynamic income\n",
    "#in dollars\n",
    "#comma separating each year's income\n",
    "\n",
    "dyn = [0,0,0,0,0,0,0,0,0,300000000,300000000,300000000,300000000,300000000,300000000,300000000,300000000,300000000,300000000,300000000]"
   ]
  },
  {
   "cell_type": "markdown",
   "metadata": {},
   "source": [
    "## The Calculation"
   ]
  },
  {
   "cell_type": "code",
   "execution_count": 29,
   "metadata": {},
   "outputs": [
    {
     "name": "stdout",
     "output_type": "stream",
     "text": [
      "Your NPV for the next 20 years is 874955899.7603966 US Dollars\n"
     ]
    }
   ],
   "source": [
    "#static NPV\n",
    "stat_cash = 0\n",
    "\n",
    "for i in range(1, year+1):\n",
    "    stat_cash += stat/pow((1+interest/100),(year+1))\n",
    "    \n",
    "stat_npv = stat_cash - a\n",
    "print('Your NPV for the next '+str(year)+ ' years is '+ str(stat_npv)+' US Dollars')"
   ]
  },
  {
   "cell_type": "code",
   "execution_count": 28,
   "metadata": {},
   "outputs": [
    {
     "name": "stdout",
     "output_type": "stream",
     "text": [
      "Your NPV for the next 20 years is 1143681299.453871 US Dollars\n"
     ]
    }
   ],
   "source": [
    "#dynamic NPV\n",
    "dyn_cash = 0\n",
    "\n",
    "for i in range(0, len(dyn)):\n",
    "    dyn_cash += dyn[i]/pow((1+interest/100),(i+1))\n",
    "    \n",
    "dyn_npv = dyn_cash - a\n",
    "print('Your NPV for the next '+str(len(dyn))+ ' years is '+ str(dyn_npv)+' US Dollars')"
   ]
  },
  {
   "cell_type": "code",
   "execution_count": null,
   "metadata": {},
   "outputs": [],
   "source": []
  }
 ],
 "metadata": {
  "kernelspec": {
   "display_name": "Python 3",
   "language": "python",
   "name": "python3"
  },
  "language_info": {
   "codemirror_mode": {
    "name": "ipython",
    "version": 3
   },
   "file_extension": ".py",
   "mimetype": "text/x-python",
   "name": "python",
   "nbconvert_exporter": "python",
   "pygments_lexer": "ipython3",
   "version": "3.7.4"
  }
 },
 "nbformat": 4,
 "nbformat_minor": 2
}
